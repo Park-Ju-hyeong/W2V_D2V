{
 "cells": [
  {
   "cell_type": "code",
   "execution_count": 1,
   "metadata": {
    "collapsed": true
   },
   "outputs": [],
   "source": [
    "import pickle\n",
    "\n",
    "# load\n",
    "with open('../data/NAVER_N_V_train.txt', 'rb') as rd:\n",
    "    train_docs = pickle.load(rd)\n",
    "    \n",
    "with open('../data/NAVER_N_V_test.txt', 'rb') as rd:\n",
    "    test_docs = pickle.load(rd)"
   ]
  },
  {
   "cell_type": "code",
   "execution_count": 2,
   "metadata": {
    "collapsed": true
   },
   "outputs": [],
   "source": [
    "from collections import namedtuple\n",
    "\n",
    "TaggedDocument = namedtuple('TaggedDocument', 'words tags')\n",
    "\n",
    "tagged_train_docs = [TaggedDocument(d, [c]) for d, c in train_docs]\n",
    "tagged_test_docs = [TaggedDocument(d, [c]) for d, c in test_docs]"
   ]
  },
  {
   "cell_type": "markdown",
   "metadata": {},
   "source": [
    "---"
   ]
  },
  {
   "cell_type": "code",
   "execution_count": 3,
   "metadata": {
    "collapsed": true
   },
   "outputs": [],
   "source": [
    "from gensim.models import doc2vec\n",
    "\n",
    "doc_vectorizer = doc2vec.Doc2Vec.load('./Model/NAVER_NV_DBOW_win10_size500_hs')"
   ]
  },
  {
   "cell_type": "code",
   "execution_count": 4,
   "metadata": {
    "collapsed": true
   },
   "outputs": [],
   "source": [
    "import numpy as np\n",
    "\n",
    "train_x = [doc_vectorizer.infer_vector(doc.words) for doc in tagged_train_docs]\n",
    "train_y = [doc.tags[0] for doc in tagged_train_docs]\n",
    "\n",
    "test_x = [doc_vectorizer.infer_vector(doc.words) for doc in tagged_test_docs]\n",
    "test_y = [doc.tags[0] for doc in tagged_test_docs]\n",
    "\n",
    "train_x_np = np.asarray(train_x)\n",
    "test_x_np = np.asarray(test_x)"
   ]
  },
  {
   "cell_type": "code",
   "execution_count": 5,
   "metadata": {
    "collapsed": true
   },
   "outputs": [],
   "source": [
    "labeling = train_y+test_y\n",
    "labeling_np = np.asarray(labeling, dtype=str)\n",
    "\n",
    "a , b = np.unique(labeling_np, return_inverse=True )\n",
    "c , d = np.unique(labeling_np[160000:], return_counts=True )\n",
    "\n",
    "train_label_np=a[b][:160000]\n",
    "test_label_np=a[b][160000:]\n",
    "\n",
    "train_y_np=b[:160000].astype(int)\n",
    "test_y_np=b[160000:].astype(int)"
   ]
  },
  {
   "cell_type": "code",
   "execution_count": 6,
   "metadata": {
    "collapsed": true
   },
   "outputs": [],
   "source": [
    "nb_classes = 48\n",
    "train_y_np = np.eye(nb_classes)[train_y_np]\n",
    "test_y_np = np.eye(nb_classes)[test_y_np]"
   ]
  },
  {
   "cell_type": "markdown",
   "metadata": {},
   "source": [
    "- - -"
   ]
  },
  {
   "cell_type": "code",
   "execution_count": 7,
   "metadata": {
    "collapsed": true
   },
   "outputs": [],
   "source": [
    "# Lab 10 MNIST and High-level TF API\n",
    "import tensorflow.contrib as contrib\n",
    "from tensorflow.contrib.layers import fully_connected, batch_norm, dropout, variance_scaling_initializer\n",
    "from tensorflow.contrib.framework import arg_scope\n",
    "import tensorflow as tf\n",
    "import random\n",
    "from datetime import datetime"
   ]
  },
  {
   "cell_type": "code",
   "execution_count": 8,
   "metadata": {
    "collapsed": true
   },
   "outputs": [],
   "source": [
    "# parameters\n",
    "learning_rate = 0.001\n",
    "training_epochs = 10\n",
    "batch_size = 128\n",
    "keep_prob = 0.5\n",
    "He = variance_scaling_initializer()"
   ]
  },
  {
   "cell_type": "code",
   "execution_count": 9,
   "metadata": {
    "collapsed": true
   },
   "outputs": [],
   "source": [
    "tf.reset_default_graph()\n",
    "\n",
    "# input place holders\n",
    "X = tf.placeholder(tf.float32, [None, 500])\n",
    "Y = tf.placeholder(tf.float32, [None, 48])\n",
    "train_mode = tf.placeholder(tf.bool, name='train_mode')"
   ]
  },
  {
   "cell_type": "code",
   "execution_count": 10,
   "metadata": {
    "collapsed": true
   },
   "outputs": [],
   "source": [
    "# fully_connected(\n",
    "#     inputs,\n",
    "#     num_outputs,\n",
    "#     activation_fn=tf.nn.relu,\n",
    "#     normalizer_fn=None,\n",
    "#     normalizer_params=None,\n",
    "#     weights_initializer=initializers.xavier_initializer(),\n",
    "#     weights_regularizer=None,\n",
    "#     biases_initializer=tf.zeros_initializer(),\n",
    "#     biases_regularizer=None,\n",
    "#     reuse=None,\n",
    "#     variables_collections=None,\n",
    "#     outputs_collections=None,\n",
    "#     trainable=True,\n",
    "#     scope=None\n",
    "# )"
   ]
  },
  {
   "cell_type": "code",
   "execution_count": 11,
   "metadata": {
    "collapsed": true,
    "scrolled": true
   },
   "outputs": [],
   "source": [
    "# We can build short code using 'arg_scope' to avoid duplicate code\n",
    "# same function with different arguments\n",
    "with arg_scope([fully_connected]):\n",
    "    \n",
    "    hidden_layer1 = fully_connected(X, 512, scope=\"h1\", weights_initializer=He)\n",
    "    h1_drop = dropout(hidden_layer1, keep_prob, is_training=train_mode)\n",
    "    \n",
    "    hidden_layer2 = fully_connected(h1_drop, 512, scope=\"h2\", weights_initializer=He)\n",
    "    h2_drop = dropout(hidden_layer2, keep_prob, is_training=train_mode)\n",
    "    \n",
    "    hidden_layer3 = fully_connected(h2_drop, 1024, scope=\"h3\", weights_initializer=He)\n",
    "    h3_drop = dropout(hidden_layer3, keep_prob, is_training=train_mode)\n",
    "    \n",
    "    hidden_layer4 = fully_connected(h3_drop, 1024, scope=\"h4\", weights_initializer=He)\n",
    "    h4_drop = dropout(hidden_layer4, keep_prob, is_training=train_mode)\n",
    "    \n",
    "    hypothesis = fully_connected(h4_drop, 48, activation_fn=None, scope=\"hypothesis\")"
   ]
  },
  {
   "cell_type": "code",
   "execution_count": 12,
   "metadata": {
    "collapsed": true
   },
   "outputs": [],
   "source": [
    "# define cost/loss & optimizer\n",
    "cost = tf.reduce_mean(tf.nn.softmax_cross_entropy_with_logits(\n",
    "    logits=hypothesis, labels=Y))\n",
    "optimizer = tf.train.AdamOptimizer(learning_rate=learning_rate).minimize(cost)\n",
    "\n",
    "with tf.name_scope(\"train_acc\"):\n",
    "    correct_prediction = tf.equal(tf.argmax(hypothesis, 1), tf.argmax(Y, 1))\n",
    "    train_accuracy = tf.reduce_mean(tf.cast(correct_prediction, tf.float32))\n",
    "    tf.summary.scalar(\"train_acc\", train_accuracy)\n",
    "\n",
    "with tf.name_scope(\"test_acc\"):\n",
    "    correct_prediction = tf.equal(tf.argmax(hypothesis, 1), tf.argmax(Y, 1))\n",
    "    test_accuracy = tf.reduce_mean(tf.cast(correct_prediction, tf.float32))\n",
    "    tf.summary.scalar(\"test_acc\", test_accuracy)"
   ]
  },
  {
   "cell_type": "code",
   "execution_count": 13,
   "metadata": {
    "collapsed": true
   },
   "outputs": [],
   "source": [
    "# initialize\n",
    "sess = tf.Session()\n",
    "sess.run(tf.global_variables_initializer())\n",
    "\n",
    "# tensorboard --logdir=./logs/NAVER_NV_DBOW_win10_size500_hs\n",
    "\n",
    "merged_summary = tf.summary.merge_all()\n",
    "writer = tf.summary.FileWriter(\"./logs/NAVER_NV_DBOW_win10_size500_hs\")\n",
    "writer.add_graph(sess.graph)  # Show the graph"
   ]
  },
  {
   "cell_type": "code",
   "execution_count": 22,
   "metadata": {
    "scrolled": false
   },
   "outputs": [
    {
     "name": "stdout",
     "output_type": "stream",
     "text": [
      "[Epoch:    0][Train: 0.80911][Test: 0.64316][2017-07-27 15:14:45]\n",
      "[Epoch:    1][Train: 0.81192][Test: 0.64285][2017-07-27 15:14:53]\n",
      "[Epoch:    2][Train: 0.81584][Test: 0.64272][2017-07-27 15:15:00]\n",
      "[Epoch:    3][Train: 0.81788][Test: 0.64186][2017-07-27 15:15:07]\n",
      "[Epoch:    4][Train: 0.82044][Test: 0.64619][2017-07-27 15:15:15]\n",
      "[Epoch:    5][Train: 0.82178][Test: 0.64535][2017-07-27 15:15:22]\n",
      "[Epoch:    6][Train: 0.82422][Test: 0.64334][2017-07-27 15:15:30]\n",
      "[Epoch:    7][Train: 0.82634][Test: 0.64170][2017-07-27 15:15:37]\n",
      "[Epoch:    8][Train: 0.82750][Test: 0.64548][2017-07-27 15:15:44]\n",
      "[Epoch:    9][Train: 0.82882][Test: 0.64149][2017-07-27 15:15:52]\n",
      "Learning Finished!\n"
     ]
    }
   ],
   "source": [
    "# train my model\n",
    "for epoch in range(training_epochs):\n",
    "    avg_acc = 0\n",
    "    total_batch = int(len(train_x_np) / batch_size)\n",
    "\n",
    "    for i in range(0, len(train_x_np), batch_size):\n",
    "        batch_xs = train_x_np[i:i+batch_size]\n",
    "        batch_ys = train_y_np[i:i+batch_size]\n",
    "        \n",
    "        feed_dict_train = {X: batch_xs, Y: batch_ys, train_mode: True}\n",
    "        feed_dict_acc = {X: batch_xs, Y: batch_ys, train_mode: False}\n",
    "        \n",
    "        opt = sess.run(optimizer, feed_dict=feed_dict_train)\n",
    "        acc = sess.run(train_accuracy, feed_dict=feed_dict_acc)\n",
    "        avg_acc += acc / total_batch\n",
    "        \n",
    "    test_feed_dict = {X: test_x_np, Y: test_y_np, train_mode: False}\n",
    "    summary, test_acc = sess.run([merged_summary, test_accuracy], feed_dict=test_feed_dict)\n",
    "    writer.add_summary(summary, global_step=epoch)      \n",
    "        \n",
    "#     if epoch % 10 == 0:\n",
    "    time = datetime.now().strftime('%Y-%m-%d %H:%M:%S')\n",
    "    print(\"[Epoch: {:>4}][Train: {:>.5f}][Test: {:>.5f}][{}]\".format(epoch, avg_acc, test_acc, time))\n",
    "\n",
    "print('Learning Finished!')"
   ]
  },
  {
   "cell_type": "code",
   "execution_count": 15,
   "metadata": {
    "collapsed": true
   },
   "outputs": [],
   "source": [
    "# saver = tf.train.Saver()\n",
    "# save_path = saver.save(sess, \"./Classifier/NAVER_pos_DBOW_win10_size500_hs\")"
   ]
  },
  {
   "cell_type": "code",
   "execution_count": 16,
   "metadata": {
    "collapsed": true
   },
   "outputs": [],
   "source": [
    "# Image('images/cost.png')"
   ]
  },
  {
   "cell_type": "code",
   "execution_count": 17,
   "metadata": {
    "collapsed": true
   },
   "outputs": [],
   "source": [
    "# Test model and check accuracy\n",
    "# accuracy = tf.reduce_mean(tf.cast(tf.equal(tf.argmax(hypothesis, 1), tf.argmax(Y, 1)), tf.float32))\n",
    "accuracy2 = tf.reduce_mean(tf.cast(tf.nn.in_top_k(hypothesis,tf.argmax(Y, 1), k=2), tf.float32))\n",
    "Top2_acc = sess.run(accuracy2, feed_dict=test_feed_dict)"
   ]
  },
  {
   "cell_type": "code",
   "execution_count": 18,
   "metadata": {},
   "outputs": [
    {
     "name": "stdout",
     "output_type": "stream",
     "text": [
      "Train Accuracy: 0.80410 \n",
      " Test Accuracy: 0.64285 \n",
      " Top2 Accuracy: 0.77354\n"
     ]
    }
   ],
   "source": [
    "print(\"Train Accuracy: {:>.5f} \\n Test Accuracy: {:>.5f} \\n Top2 Accuracy: {:>.5f}\".format(avg_acc, test_acc, Top2_acc))"
   ]
  },
  {
   "cell_type": "code",
   "execution_count": 19,
   "metadata": {
    "collapsed": true
   },
   "outputs": [],
   "source": [
    "%matplotlib inline\n",
    "import matplotlib.pyplot as plt\n",
    "from sklearn.metrics import confusion_matrix\n",
    "\n",
    "y_true = tf.placeholder(tf.float32, [None, 48])\n",
    "y_pred = tf.placeholder(tf.float32, [None, 48])\n",
    "y_true_cls = tf.placeholder(tf.int32, [None])"
   ]
  },
  {
   "cell_type": "code",
   "execution_count": 20,
   "metadata": {
    "scrolled": true
   },
   "outputs": [
    {
     "data": {
      "text/plain": [
       "<matplotlib.text.Text at 0x7f12c053b0b8>"
      ]
     },
     "execution_count": 20,
     "metadata": {},
     "output_type": "execute_result"
    },
    {
     "data": {
      "image/png": "[encoded data removed]",
      "text/plain": [
       "<matplotlib.figure.Figure at 0x7f12c09da6d8>"
      ]
     },
     "metadata": {},
     "output_type": "display_data"
    }
   ],
   "source": [
    "cls_true = b[160000:]\n",
    "cls_pred = sess.run(tf.argmax(hypothesis, 1), feed_dict=test_feed_dict)\n",
    "cm = confusion_matrix(y_true=cls_true, y_pred=cls_pred)        \n",
    "\n",
    "plt.imshow(cm, interpolation='nearest', cmap=plt.cm.Blues)\n",
    "plt.tight_layout()\n",
    "plt.colorbar()\n",
    "tick_marks = np.arange(48)\n",
    "plt.xticks(tick_marks, range(48))\n",
    "plt.yticks(tick_marks, range(48))\n",
    "plt.xlabel('Predicted')\n",
    "plt.ylabel('True')"
   ]
  },
  {
   "cell_type": "code",
   "execution_count": 21,
   "metadata": {},
   "outputs": [
    {
     "name": "stdout",
     "output_type": "stream",
     "text": [
      "[Accuracy: 0.30825] IT/과학-IT 일반\n",
      "[Accuracy: 0.73390] IT/과학-게임/리뷰\n",
      "[Accuracy: 0.63772] IT/과학-과학 일반\n",
      "[Accuracy: 0.69320] IT/과학-모바일\n",
      "[Accuracy: 0.82955] IT/과학-보안/해킹\n",
      "[Accuracy: 0.56834] IT/과학-인터넷/SNS\n",
      "[Accuracy: 0.71104] IT/과학-컴퓨터\n",
      "[Accuracy: 0.66716] IT/과학-통신/뉴미디어\n",
      "[Accuracy: 0.37447] 경제-경제 일반\n",
      "[Accuracy: 0.76280] 경제-글로벌 경제\n",
      "[Accuracy: 0.64330] 경제-금융\n",
      "[Accuracy: 0.84293] 경제-부동산\n",
      "[Accuracy: 0.36276] 경제-산업/재계\n",
      "[Accuracy: 0.54595] 경제-생활경제\n",
      "[Accuracy: 0.65824] 경제-중기/벤처\n",
      "[Accuracy: 0.71162] 경제-증권\n",
      "[Accuracy: 0.63688] 사회-교육\n",
      "[Accuracy: 0.67208] 사회-노동\n",
      "[Accuracy: 0.70370] 사회-사건사고\n",
      "[Accuracy: 0.33849] 사회-사회일반\n",
      "[Accuracy: 0.43150] 사회-식품/의료\n",
      "[Accuracy: 0.58808] 사회-언론\n",
      "[Accuracy: 0.63952] 사회-인권/복지\n",
      "[Accuracy: 0.63249] 사회-인물\n",
      "[Accuracy: 0.36767] 사회-지역\n",
      "[Accuracy: 0.69316] 사회-환경\n",
      "[Accuracy: 0.70227] 생활/문화-건강정보\n",
      "[Accuracy: 0.80000] 생활/문화-공연/전시\n",
      "[Accuracy: 0.88515] 생활/문화-날씨\n",
      "[Accuracy: 0.71676] 생활/문화-도로/교통\n",
      "[Accuracy: 0.30876] 생활/문화-생활문화 일반\n",
      "[Accuracy: 0.68552] 생활/문화-여행/레저\n",
      "[Accuracy: 0.55636] 생활/문화-음식/맛집\n",
      "[Accuracy: 0.82890] 생활/문화-자동차/시승기\n",
      "[Accuracy: 0.89102] 생활/문화-종교\n",
      "[Accuracy: 0.84656] 생활/문화-책\n",
      "[Accuracy: 0.81295] 생활/문화-패션/뷰티\n",
      "[Accuracy: 0.63846] 세계-미국/중남미\n",
      "[Accuracy: 0.66031] 세계-세계 일반\n",
      "[Accuracy: 0.65864] 세계-아시아/호주\n",
      "[Accuracy: 0.64602] 세계-유럽\n",
      "[Accuracy: 0.81240] 세계-중동/아프리카\n",
      "[Accuracy: 0.63408] 정치-국방/외교\n",
      "[Accuracy: 0.65107] 정치-국회/정당\n",
      "[Accuracy: 0.65369] 정치-북한\n",
      "[Accuracy: 0.47605] 정치-정치일반\n",
      "[Accuracy: 0.68474] 정치-청와대\n",
      "[Accuracy: 0.45646] 정치-행정\n"
     ]
    }
   ],
   "source": [
    "for i in range(48):\n",
    "    print(\"[Accuracy: {:>.5f}] {}\".format(cm[i][i] / d[i], c[i]))"
   ]
  }
 ],
 "metadata": {
  "anaconda-cloud": {},
  "kernelspec": {
   "display_name": "Python [default]",
   "language": "python",
   "name": "python3"
  },
  "language_info": {
   "codemirror_mode": {
    "name": "ipython",
    "version": 3
   },
   "file_extension": ".py",
   "mimetype": "text/x-python",
   "name": "python",
   "nbconvert_exporter": "python",
   "pygments_lexer": "ipython3",
   "version": "3.5.2"
  }
 },
 "nbformat": 4,
 "nbformat_minor": 2
}
