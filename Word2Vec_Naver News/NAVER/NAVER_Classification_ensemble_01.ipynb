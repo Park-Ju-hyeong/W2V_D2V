{
 "cells": [
  {
   "cell_type": "code",
   "execution_count": null,
   "metadata": {
    "collapsed": true
   },
   "outputs": [],
   "source": [
    "import pickle\n",
    "\n",
    "# load\n",
    "with open('../data/NAVER_allpos_train.txt', 'rb') as rd:\n",
    "    train_docs = pickle.load(rd)\n",
    "    \n",
    "with open('../data/NAVER_allpos_test.txt', 'rb') as rd:\n",
    "    test_docs = pickle.load(rd)"
   ]
  },
  {
   "cell_type": "code",
   "execution_count": 1,
   "metadata": {
    "collapsed": true
   },
   "outputs": [],
   "source": [
    "with open('../data/NAVER_allpos_600_train.txt', 'rb') as rd:\n",
    "    train_docs_600 = pickle.load(rd)\n",
    "    \n",
    "with open('../data/NAVER_allpos_600_test.txt', 'rb') as rd:\n",
    "    test_docs_600 = pickle.load(rd)"
   ]
  },
  {
   "cell_type": "code",
   "execution_count": null,
   "metadata": {
    "collapsed": true
   },
   "outputs": [],
   "source": [
    "from collections import namedtuple\n",
    "\n",
    "TaggedDocument = namedtuple('TaggedDocument', 'words tags')\n",
    "\n",
    "tagged_train_docs = [TaggedDocument(d, [c]) for d, c in train_docs]\n",
    "tagged_test_docs = [TaggedDocument(d, [c]) for d, c in test_docs]"
   ]
  },
  {
   "cell_type": "code",
   "execution_count": 2,
   "metadata": {
    "collapsed": true
   },
   "outputs": [],
   "source": [
    "tagged_train_docs_600 = [TaggedDocument(d, [c]) for d, c in train_docs_600]\n",
    "tagged_test_docs_600 = [TaggedDocument(d, [c]) for d, c in test_docs_600]"
   ]
  },
  {
   "cell_type": "code",
   "execution_count": 4,
   "metadata": {},
   "outputs": [
    {
     "data": {
      "text/plain": [
       "['미디어/Noun',\n",
       " '이데일리/Noun',\n",
       " '-/Punctuation',\n",
       " '무단/Noun',\n",
       " '전재/Noun',\n",
       " '&/Punctuation',\n",
       " '재/Noun',\n",
       " '배포/Noun',\n",
       " '금지/Noun',\n",
       " '＞/Foreign']"
      ]
     },
     "execution_count": 4,
     "metadata": {},
     "output_type": "execute_result"
    }
   ],
   "source": [
    "tagged_train_docs[0][0][-10:]"
   ]
  },
  {
   "cell_type": "code",
   "execution_count": 5,
   "metadata": {},
   "outputs": [
    {
     "data": {
      "text/plain": [
       "['마무리/Noun',\n",
       " '짓다/Verb',\n",
       " '해인/Noun',\n",
       " '만큼/Noun',\n",
       " '4/Number',\n",
       " '대다/Verb',\n",
       " '개혁/Noun',\n",
       " '의/Josa',\n",
       " '튼튼하다/Adjective',\n",
       " '받침/Noun']"
      ]
     },
     "execution_count": 5,
     "metadata": {},
     "output_type": "execute_result"
    }
   ],
   "source": [
    "tagged_train_docs_600[0][0][-10:]"
   ]
  },
  {
   "cell_type": "markdown",
   "metadata": {},
   "source": [
    "---"
   ]
  },
  {
   "cell_type": "code",
   "execution_count": 6,
   "metadata": {
    "collapsed": true
   },
   "outputs": [],
   "source": [
    "from gensim.models import doc2vec\n",
    "\n",
    "D2V_model = doc2vec.Doc2Vec.load('./Model/NAVER_ensemble_1')\n",
    "D2V_600_model = doc2vec.Doc2Vec.load('./Model/NAVER_ensemble_2')"
   ]
  },
  {
   "cell_type": "code",
   "execution_count": 7,
   "metadata": {
    "collapsed": true
   },
   "outputs": [],
   "source": [
    "import numpy as np\n",
    "\n",
    "train_x = [D2V_model.infer_vector(doc.words) for doc in tagged_train_docs]\n",
    "train_y = [doc.tags[0] for doc in tagged_train_docs]\n",
    "\n",
    "test_x = [D2V_model.infer_vector(doc.words) for doc in tagged_test_docs]\n",
    "test_y = [doc.tags[0] for doc in tagged_test_docs]\n",
    "\n",
    "train_x_np = np.asarray(train_x)\n",
    "test_x_np = np.asarray(test_x)"
   ]
  },
  {
   "cell_type": "code",
   "execution_count": 8,
   "metadata": {
    "collapsed": true
   },
   "outputs": [],
   "source": [
    "train_x_600 = [D2V_600_model.infer_vector(doc.words) for doc in tagged_train_docs_600]\n",
    "train_y_600 = [doc.tags[0] for doc in tagged_train_docs_600]\n",
    "\n",
    "test_x_600 = [D2V_600_model.infer_vector(doc.words) for doc in tagged_test_docs_600]\n",
    "test_y_600 = [doc.tags[0] for doc in tagged_test_docs_600]\n",
    "\n",
    "train_x_np_600 = np.asarray(train_x_600)\n",
    "test_x_np_600 = np.asarray(test_x_600)"
   ]
  },
  {
   "cell_type": "code",
   "execution_count": 22,
   "metadata": {
    "collapsed": true
   },
   "outputs": [],
   "source": [
    "labeling = train_y+test_y\n",
    "labeling_np = np.asarray(labeling, dtype=str)\n",
    "\n",
    "a , b = np.unique(labeling_np, return_inverse=True )\n",
    "c , d = np.unique(labeling_np[160000:], return_counts=True )\n",
    "\n",
    "train_label_np=a[b][:160000]\n",
    "test_label_np=a[b][160000:]\n",
    "\n",
    "train_y_np=b[:160000].astype(int)\n",
    "test_y_np=b[160000:].astype(int)"
   ]
  },
  {
   "cell_type": "code",
   "execution_count": 23,
   "metadata": {
    "collapsed": true
   },
   "outputs": [],
   "source": [
    "labeling_600 = train_y_600 + test_y_600\n",
    "labeling_np_600 = np.asarray(labeling_600, dtype=str)\n",
    "\n",
    "a_600 , b_600 = np.unique(labeling_np_600, return_inverse=True )\n",
    "c_600 , d_600 = np.unique(labeling_np_600[160000:], return_counts=True )\n",
    "\n",
    "train_label_np_600 = a[b_600][:160000]\n",
    "test_label_np_600 = a[b_600][160000:]\n",
    "\n",
    "train_y_np_600 = b_600[:160000].astype(int)\n",
    "test_y_np_600 = b_600[160000:].astype(int)"
   ]
  },
  {
   "cell_type": "code",
   "execution_count": 24,
   "metadata": {
    "collapsed": true
   },
   "outputs": [],
   "source": [
    "nb_classes = 48\n",
    "train_y_np = np.eye(nb_classes)[train_y_np]\n",
    "test_y_np = np.eye(nb_classes)[test_y_np]"
   ]
  },
  {
   "cell_type": "code",
   "execution_count": 25,
   "metadata": {
    "collapsed": true
   },
   "outputs": [],
   "source": [
    "nb_classes = 48\n",
    "train_y_np_600 = np.eye(nb_classes)[train_y_np_600]\n",
    "test_y_np_600 = np.eye(nb_classes)[test_y_np_600]"
   ]
  },
  {
   "cell_type": "markdown",
   "metadata": {},
   "source": [
    "- - -"
   ]
  },
  {
   "cell_type": "code",
   "execution_count": 9,
   "metadata": {
    "collapsed": true
   },
   "outputs": [],
   "source": [
    "# Lab 10 MNIST and High-level TF API\n",
    "import tensorflow.contrib as contrib\n",
    "from tensorflow.contrib.layers import fully_connected, batch_norm, dropout, variance_scaling_initializer\n",
    "from tensorflow.contrib.framework import arg_scope\n",
    "import tensorflow as tf\n",
    "import random\n",
    "from datetime import datetime"
   ]
  },
  {
   "cell_type": "code",
   "execution_count": 20,
   "metadata": {
    "collapsed": true
   },
   "outputs": [],
   "source": [
    "# parameters\n",
    "learning_rate = 0.001\n",
    "training_epochs = 10\n",
    "batch_size = 64\n",
    "keep_prob = 0.5\n",
    "He = variance_scaling_initializer()"
   ]
  },
  {
   "cell_type": "code",
   "execution_count": 27,
   "metadata": {
    "collapsed": true
   },
   "outputs": [],
   "source": [
    "tf.reset_default_graph()\n",
    "\n",
    "# input place holders\n",
    "X = tf.placeholder(tf.float32, [None, 500])\n",
    "Y = tf.placeholder(tf.float32, [None, 48])\n",
    "train_mode = tf.placeholder(tf.bool, name='train_mode')"
   ]
  },
  {
   "cell_type": "code",
   "execution_count": 28,
   "metadata": {
    "collapsed": true
   },
   "outputs": [],
   "source": [
    "# fully_connected(\n",
    "#     inputs,\n",
    "#     num_outputs,\n",
    "#     activation_fn=tf.nn.relu,\n",
    "#     normalizer_fn=None,\n",
    "#     normalizer_params=None,\n",
    "#     weights_initializer=initializers.xavier_initializer(),\n",
    "#     weights_regularizer=None,\n",
    "#     biases_initializer=tf.zeros_initializer(),\n",
    "#     biases_regularizer=None,\n",
    "#     reuse=None,\n",
    "#     variables_collections=None,\n",
    "#     outputs_collections=None,\n",
    "#     trainable=True,\n",
    "#     scope=None\n",
    "# )"
   ]
  },
  {
   "cell_type": "code",
   "execution_count": 29,
   "metadata": {
    "collapsed": true,
    "scrolled": true
   },
   "outputs": [],
   "source": [
    "# We can build short code using 'arg_scope' to avoid duplicate code\n",
    "# same function with different arguments\n",
    "with arg_scope([fully_connected]):\n",
    "    \n",
    "    hidden_layer1 = fully_connected(X, 1024, scope=\"h1\", weights_initializer=He)\n",
    "    h1_drop = dropout(hidden_layer1, keep_prob, is_training=train_mode)\n",
    "    \n",
    "    hidden_layer2 = fully_connected(h1_drop, 1024, scope=\"h2\", weights_initializer=He)\n",
    "    h2_drop = dropout(hidden_layer2, keep_prob, is_training=train_mode)\n",
    "    \n",
    "    hidden_layer3 = fully_connected(h2_drop, 1024, scope=\"h3\", weights_initializer=He)\n",
    "    h3_drop = dropout(hidden_layer3, keep_prob, is_training=train_mode)\n",
    "    \n",
    "    hidden_layer4 = fully_connected(h3_drop, 1024, scope=\"h4\", weights_initializer=He)\n",
    "    h4_drop = dropout(hidden_layer4, keep_prob, is_training=train_mode)\n",
    "    \n",
    "    hypothesis = fully_connected(h4_drop, 48, activation_fn=None, scope=\"hypothesis\")"
   ]
  },
  {
   "cell_type": "code",
   "execution_count": 30,
   "metadata": {
    "collapsed": true
   },
   "outputs": [],
   "source": [
    "# define cost/loss & optimizer\n",
    "cost = tf.reduce_mean(tf.nn.softmax_cross_entropy_with_logits(\n",
    "    logits=hypothesis, labels=Y))\n",
    "optimizer = tf.train.AdamOptimizer(learning_rate=learning_rate).minimize(cost)\n",
    "\n",
    "with tf.name_scope(\"train_acc\"):\n",
    "    correct_prediction = tf.equal(tf.argmax(hypothesis, 1), tf.argmax(Y, 1))\n",
    "    train_accuracy = tf.reduce_mean(tf.cast(correct_prediction, tf.float32))\n",
    "    tf.summary.scalar(\"train_acc\", train_accuracy)\n",
    "\n",
    "with tf.name_scope(\"test_acc\"):\n",
    "    correct_prediction = tf.equal(tf.argmax(hypothesis, 1), tf.argmax(Y, 1))\n",
    "    test_accuracy = tf.reduce_mean(tf.cast(correct_prediction, tf.float32))\n",
    "    tf.summary.scalar(\"test_acc\", test_accuracy)"
   ]
  },
  {
   "cell_type": "code",
   "execution_count": 31,
   "metadata": {
    "collapsed": true
   },
   "outputs": [],
   "source": [
    "# initialize\n",
    "sess = tf.Session()\n",
    "sess.run(tf.global_variables_initializer())"
   ]
  },
  {
   "cell_type": "code",
   "execution_count": 32,
   "metadata": {
    "collapsed": true
   },
   "outputs": [],
   "source": [
    "# initialize\n",
    "sess_600 = tf.Session()\n",
    "sess_600.run(tf.global_variables_initializer())"
   ]
  },
  {
   "cell_type": "code",
   "execution_count": 33,
   "metadata": {
    "collapsed": true
   },
   "outputs": [],
   "source": [
    "# tensorboard --logdir=./logs/NAVER_ensemble1\n",
    "\n",
    "merged_summary = tf.summary.merge_all()\n",
    "writer = tf.summary.FileWriter(\"./logs/NAVER_ensemble1\")\n",
    "writer.add_graph(sess.graph)  # Show the graph"
   ]
  },
  {
   "cell_type": "code",
   "execution_count": 34,
   "metadata": {
    "collapsed": true
   },
   "outputs": [],
   "source": [
    "# tensorboard --logdir=./logs/NAVER_ensemble2\n",
    "\n",
    "merged_summary_600 = tf.summary.merge_all()\n",
    "writer_600 = tf.summary.FileWriter(\"./logs/NAVER_ensemble2\")\n",
    "writer_600.add_graph(sess_600.graph)  # Show the graph"
   ]
  },
  {
   "cell_type": "code",
   "execution_count": 35,
   "metadata": {
    "scrolled": false
   },
   "outputs": [
    {
     "name": "stdout",
     "output_type": "stream",
     "text": [
      "[Epoch:    0][2017-07-29 14:50:27]\n",
      "[model1_Train: 0.62869][model1_Test: 0.65441]\n",
      "[model2_Train: 0.57599][model2_Test: 0.55906]\n",
      "[Epoch:    1][2017-07-29 14:50:56]\n",
      "[model1_Train: 0.76765][model1_Test: 0.67902]\n",
      "[model2_Train: 0.69706][model2_Test: 0.57334]\n",
      "[Epoch:    2][2017-07-29 14:51:25]\n",
      "[model1_Train: 0.79247][model1_Test: 0.68103]\n",
      "[model2_Train: 0.72677][model2_Test: 0.57739]\n",
      "[Epoch:    3][2017-07-29 14:51:54]\n",
      "[model1_Train: 0.80887][model1_Test: 0.68184]\n",
      "[model2_Train: 0.74270][model2_Test: 0.58067]\n",
      "[Epoch:    4][2017-07-29 14:52:23]\n",
      "[model1_Train: 0.81871][model1_Test: 0.68425]\n",
      "[model2_Train: 0.75463][model2_Test: 0.58058]\n",
      "[Epoch:    5][2017-07-29 14:52:52]\n",
      "[model1_Train: 0.82482][model1_Test: 0.68654]\n",
      "[model2_Train: 0.76078][model2_Test: 0.58011]\n",
      "[Epoch:    6][2017-07-29 14:53:22]\n",
      "[model1_Train: 0.83034][model1_Test: 0.68737]\n",
      "[model2_Train: 0.76722][model2_Test: 0.58234]\n",
      "[Epoch:    7][2017-07-29 14:53:51]\n",
      "[model1_Train: 0.83577][model1_Test: 0.69046]\n",
      "[model2_Train: 0.77328][model2_Test: 0.58129]\n",
      "[Epoch:    8][2017-07-29 14:54:20]\n",
      "[model1_Train: 0.84006][model1_Test: 0.68975]\n",
      "[model2_Train: 0.77576][model2_Test: 0.57779]\n",
      "[Epoch:    9][2017-07-29 14:54:49]\n",
      "[model1_Train: 0.84146][model1_Test: 0.68348]\n",
      "[model2_Train: 0.77933][model2_Test: 0.57983]\n",
      "Learning Finished!\n"
     ]
    }
   ],
   "source": [
    "# train my model\n",
    "for epoch in range(training_epochs):\n",
    "    avg_acc = 0\n",
    "    avg_acc_600 = 0\n",
    "    total_batch = int(len(train_x_np) / batch_size)\n",
    "\n",
    "    for i in range(0, len(train_x_np), batch_size):\n",
    "        batch_xs = train_x_np[i:i+batch_size]\n",
    "        batch_ys = train_y_np[i:i+batch_size]\n",
    "        \n",
    "        feed_dict_train = {X: batch_xs, Y: batch_ys, train_mode: True}\n",
    "        feed_dict_acc = {X: batch_xs, Y: batch_ys, train_mode: False}\n",
    "        \n",
    "        opt = sess.run(optimizer, feed_dict=feed_dict_train)\n",
    "        acc = sess.run(train_accuracy, feed_dict=feed_dict_acc)\n",
    "        avg_acc += acc / total_batch\n",
    "     \n",
    "    test_feed_dict = {X: test_x_np, Y: test_y_np, train_mode: False}\n",
    "    summary, test_acc = sess.run([merged_summary, test_accuracy], feed_dict=test_feed_dict)\n",
    "    writer.add_summary(summary, global_step=epoch)      \n",
    "        \n",
    "        \n",
    "    for i in range(0, len(train_x_np_600), batch_size):\n",
    "        batch_xs = train_x_np_600[i:i+batch_size]\n",
    "        batch_ys = train_y_np_600[i:i+batch_size]\n",
    "        \n",
    "        feed_dict_train = {X: batch_xs, Y: batch_ys, train_mode: True}\n",
    "        feed_dict_acc = {X: batch_xs, Y: batch_ys, train_mode: False}\n",
    "        \n",
    "        opt = sess_600.run(optimizer, feed_dict=feed_dict_train)\n",
    "        acc_600 = sess_600.run(train_accuracy, feed_dict=feed_dict_acc)\n",
    "        avg_acc_600 += acc_600 / total_batch\n",
    "    \n",
    "        \n",
    "    test_feed_dict_600 = {X: test_x_np_600, Y: test_y_np_600, train_mode: False}\n",
    "    summary_600, test_acc_600 = sess_600.run([merged_summary_600, test_accuracy], feed_dict=test_feed_dict_600)\n",
    "    writer_600.add_summary(summary_600, global_step=epoch)      \n",
    "        \n",
    "#     if epoch % 10 == 0:\n",
    "    time = datetime.now().strftime('%Y-%m-%d %H:%M:%S')\n",
    "    main = \"[Epoch: {0:>4}][{1}]\\n[model1_Train: {2:>.5f}][model1_Test: {3:>.5f}]\\n[model2_Train: {4:>.5f}][model2_Test: {5:>.5f}]\"\n",
    "    print(main.format(epoch, time, avg_acc, test_acc, avg_acc_600, test_acc_600))\n",
    "\n",
    "print('Learning Finished!')"
   ]
  },
  {
   "cell_type": "code",
   "execution_count": 15,
   "metadata": {
    "collapsed": true
   },
   "outputs": [],
   "source": [
    "# saver = tf.train.Saver()\n",
    "# save_path = saver.save(sess, \"./Classifier/NAVER_pos_DBOW_win10_size500_hs\")"
   ]
  },
  {
   "cell_type": "code",
   "execution_count": 16,
   "metadata": {
    "collapsed": true
   },
   "outputs": [],
   "source": [
    "# Image('images/cost.png')"
   ]
  },
  {
   "cell_type": "code",
   "execution_count": 17,
   "metadata": {
    "collapsed": true
   },
   "outputs": [],
   "source": [
    "# Test model and check accuracy\n",
    "# accuracy = tf.reduce_mean(tf.cast(tf.equal(tf.argmax(hypothesis, 1), tf.argmax(Y, 1)), tf.float32))\n",
    "accuracy2 = tf.reduce_mean(tf.cast(tf.nn.in_top_k(hypothesis,tf.argmax(Y, 1), k=2), tf.float32))\n",
    "Top2_acc = sess.run(accuracy2, feed_dict=test_feed_dict)"
   ]
  },
  {
   "cell_type": "code",
   "execution_count": 18,
   "metadata": {},
   "outputs": [
    {
     "name": "stdout",
     "output_type": "stream",
     "text": [
      "Train Accuracy: 0.86920 \n",
      " Test Accuracy: 0.62822 \n",
      " Top2 Accuracy: 0.75233\n"
     ]
    }
   ],
   "source": [
    "print(\"Train Accuracy: {:>.5f} \\n Test Accuracy: {:>.5f} \\n Top2 Accuracy: {:>.5f}\".format(avg_acc, test_acc, Top2_acc))"
   ]
  },
  {
   "cell_type": "markdown",
   "metadata": {},
   "source": [
    "---"
   ]
  },
  {
   "cell_type": "code",
   "execution_count": 58,
   "metadata": {
    "collapsed": true
   },
   "outputs": [],
   "source": [
    "test_feed_dict = {X: test_x_np, Y: test_y_np, train_mode: False}\n",
    "test_acc = sess.run(tf.nn.softmax(hypothesis, 1), feed_dict=test_feed_dict)"
   ]
  },
  {
   "cell_type": "code",
   "execution_count": 59,
   "metadata": {
    "collapsed": true
   },
   "outputs": [],
   "source": [
    "test_feed_dict_600 = {X: test_x_np_600, Y: test_y_np_600, train_mode: False}\n",
    "test_acc_600 = sess_600.run(tf.nn.softmax(hypothesis, 1), feed_dict=test_feed_dict_600)"
   ]
  },
  {
   "cell_type": "code",
   "execution_count": 60,
   "metadata": {},
   "outputs": [
    {
     "data": {
      "text/plain": [
       "array([[  9.69908014e-03,   2.76341266e-03,   2.41984054e-03, ...,\n",
       "          1.78141639e-01,   2.22232774e-01,   5.88859916e-02],\n",
       "       [  1.90362185e-02,   8.25989246e-03,   9.24983062e-03, ...,\n",
       "          1.18089139e-01,   1.49628788e-01,   6.34832978e-02],\n",
       "       [  2.06671059e-02,   3.08415666e-03,   9.19543579e-03, ...,\n",
       "          2.32149020e-01,   1.57472566e-01,   7.65689611e-02],\n",
       "       ..., \n",
       "       [  1.06381634e-02,   3.13122302e-01,   4.23343561e-04, ...,\n",
       "          4.64325071e-11,   2.08620260e-10,   3.96575084e-09],\n",
       "       [  8.43304303e-03,   1.87542245e-01,   2.25092896e-04, ...,\n",
       "          1.29088892e-11,   1.07029934e-10,   5.61292290e-10],\n",
       "       [  3.13194213e-03,   4.06931395e-06,   9.86945093e-01, ...,\n",
       "          6.78986510e-07,   4.08071159e-08,   1.25761406e-04]], dtype=float32)"
      ]
     },
     "execution_count": 60,
     "metadata": {},
     "output_type": "execute_result"
    }
   ],
   "source": [
    "test_acc_600"
   ]
  },
  {
   "cell_type": "code",
   "execution_count": 61,
   "metadata": {},
   "outputs": [
    {
     "data": {
      "text/plain": [
       "(32342, 48)"
      ]
     },
     "execution_count": 61,
     "metadata": {},
     "output_type": "execute_result"
    }
   ],
   "source": [
    "test_acc_600.shape"
   ]
  },
  {
   "cell_type": "code",
   "execution_count": 62,
   "metadata": {
    "collapsed": true
   },
   "outputs": [],
   "source": [
    "# Test model and check accuracy\n",
    "test_size = len(test_y_np_600)\n",
    "predictions = np.zeros(test_size * 48).reshape(test_size, 48)\n",
    "predictions += test_acc\n",
    "predictions += test_acc_600"
   ]
  },
  {
   "cell_type": "code",
   "execution_count": 68,
   "metadata": {},
   "outputs": [
    {
     "name": "stdout",
     "output_type": "stream",
     "text": [
      "Ensemble accuracy: 0.684466\n"
     ]
    }
   ],
   "source": [
    "ensemble_correct_prediction = tf.equal(tf.argmax(predictions, 1), tf.argmax(test_y_np, 1))\n",
    "ensemble_accuracy = tf.reduce_mean(tf.cast(ensemble_correct_prediction, tf.float32))\n",
    "print('Ensemble accuracy:', sess.run(ensemble_accuracy))"
   ]
  },
  {
   "cell_type": "code",
   "execution_count": 74,
   "metadata": {},
   "outputs": [
    {
     "name": "stdout",
     "output_type": "stream",
     "text": [
      "Ensemble Top2 accuracy: 0.806907\n"
     ]
    }
   ],
   "source": [
    "accuracy2 = tf.reduce_mean(tf.cast(tf.nn.in_top_k(predictions,tf.argmax(test_y_np, 1), k = 2), tf.float32))\n",
    "print('Ensemble Top2 accuracy:', sess.run(accuracy2, feed_dict=test_feed_dict))"
   ]
  },
  {
   "cell_type": "code",
   "execution_count": 69,
   "metadata": {
    "collapsed": true
   },
   "outputs": [],
   "source": [
    "%matplotlib inline\n",
    "import matplotlib.pyplot as plt\n",
    "from sklearn.metrics import confusion_matrix\n",
    "\n",
    "y_true = tf.placeholder(tf.float32, [None, 48])\n",
    "y_pred = tf.placeholder(tf.float32, [None, 48])\n",
    "y_true_cls = tf.placeholder(tf.int32, [None])"
   ]
  },
  {
   "cell_type": "code",
   "execution_count": 71,
   "metadata": {
    "scrolled": true
   },
   "outputs": [
    {
     "data": {
      "text/plain": [
       "<matplotlib.text.Text at 0x7f370a43d940>"
      ]
     },
     "execution_count": 71,
     "metadata": {},
     "output_type": "execute_result"
    },
    {
     "data": {
      "image/png": "[encoded data removed]",
      "text/plain": [
       "<matplotlib.figure.Figure at 0x7f370a41ecc0>"
      ]
     },
     "metadata": {},
     "output_type": "display_data"
    }
   ],
   "source": [
    "cls_true = b[160000:]\n",
    "cls_pred = sess.run(tf.argmax(predictions, 1), feed_dict=test_feed_dict)\n",
    "cm = confusion_matrix(y_true=cls_true, y_pred=cls_pred)        \n",
    "\n",
    "plt.imshow(cm, interpolation='nearest', cmap=plt.cm.Blues)\n",
    "plt.tight_layout()\n",
    "plt.colorbar()\n",
    "tick_marks = np.arange(48)\n",
    "plt.xticks(tick_marks, range(48))\n",
    "plt.yticks(tick_marks, range(48))\n",
    "plt.xlabel('Predicted')\n",
    "plt.ylabel('True')"
   ]
  },
  {
   "cell_type": "code",
   "execution_count": 72,
   "metadata": {},
   "outputs": [
    {
     "name": "stdout",
     "output_type": "stream",
     "text": [
      "[Accuracy: 0.38642] IT/과학-IT 일반\n",
      "[Accuracy: 0.74674] IT/과학-게임/리뷰\n",
      "[Accuracy: 0.65077] IT/과학-과학 일반\n",
      "[Accuracy: 0.75888] IT/과학-모바일\n",
      "[Accuracy: 0.88193] IT/과학-보안/해킹\n",
      "[Accuracy: 0.64324] IT/과학-인터넷/SNS\n",
      "[Accuracy: 0.73095] IT/과학-컴퓨터\n",
      "[Accuracy: 0.75138] IT/과학-통신/뉴미디어\n",
      "[Accuracy: 0.34459] 경제-경제 일반\n",
      "[Accuracy: 0.82096] 경제-글로벌 경제\n",
      "[Accuracy: 0.73498] 경제-금융\n",
      "[Accuracy: 0.86606] 경제-부동산\n",
      "[Accuracy: 0.35535] 경제-산업/재계\n",
      "[Accuracy: 0.56604] 경제-생활경제\n",
      "[Accuracy: 0.75272] 경제-중기/벤처\n",
      "[Accuracy: 0.69806] 경제-증권\n",
      "[Accuracy: 0.66317] 사회-교육\n",
      "[Accuracy: 0.65075] 사회-노동\n",
      "[Accuracy: 0.80270] 사회-사건사고\n",
      "[Accuracy: 0.36581] 사회-사회일반\n",
      "[Accuracy: 0.39552] 사회-식품/의료\n",
      "[Accuracy: 0.66154] 사회-언론\n",
      "[Accuracy: 0.66208] 사회-인권/복지\n",
      "[Accuracy: 0.73404] 사회-인물\n",
      "[Accuracy: 0.46279] 사회-지역\n",
      "[Accuracy: 0.73301] 사회-환경\n",
      "[Accuracy: 0.79581] 생활/문화-건강정보\n",
      "[Accuracy: 0.82530] 생활/문화-공연/전시\n",
      "[Accuracy: 0.83620] 생활/문화-날씨\n",
      "[Accuracy: 0.69565] 생활/문화-도로/교통\n",
      "[Accuracy: 0.38889] 생활/문화-생활문화 일반\n",
      "[Accuracy: 0.73226] 생활/문화-여행/레저\n",
      "[Accuracy: 0.65428] 생활/문화-음식/맛집\n",
      "[Accuracy: 0.87315] 생활/문화-자동차/시승기\n",
      "[Accuracy: 0.92394] 생활/문화-종교\n",
      "[Accuracy: 0.84293] 생활/문화-책\n",
      "[Accuracy: 0.85857] 생활/문화-패션/뷰티\n",
      "[Accuracy: 0.66159] 세계-미국/중남미\n",
      "[Accuracy: 0.78266] 세계-세계 일반\n",
      "[Accuracy: 0.78745] 세계-아시아/호주\n",
      "[Accuracy: 0.78338] 세계-유럽\n",
      "[Accuracy: 0.76378] 세계-중동/아프리카\n",
      "[Accuracy: 0.66191] 정치-국방/외교\n",
      "[Accuracy: 0.61655] 정치-국회/정당\n",
      "[Accuracy: 0.67422] 정치-북한\n",
      "[Accuracy: 0.53149] 정치-정치일반\n",
      "[Accuracy: 0.81153] 정치-청와대\n",
      "[Accuracy: 0.44972] 정치-행정\n"
     ]
    }
   ],
   "source": [
    "for i in range(48):\n",
    "    print(\"[Accuracy: {:>.5f}] {}\".format(cm[i][i] / d[i], c[i]))"
   ]
  },
  {
   "cell_type": "code",
   "execution_count": null,
   "metadata": {
    "collapsed": true
   },
   "outputs": [],
   "source": []
  }
 ],
 "metadata": {
  "anaconda-cloud": {},
  "kernelspec": {
   "display_name": "Python [default]",
   "language": "python",
   "name": "python3"
  },
  "language_info": {
   "codemirror_mode": {
    "name": "ipython",
    "version": 3
   },
   "file_extension": ".py",
   "mimetype": "text/x-python",
   "name": "python",
   "nbconvert_exporter": "python",
   "pygments_lexer": "ipython3",
   "version": "3.5.2"
  }
 },
 "nbformat": 4,
 "nbformat_minor": 2
}
