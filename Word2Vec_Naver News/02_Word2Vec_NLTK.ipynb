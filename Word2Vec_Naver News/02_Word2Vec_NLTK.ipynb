{
 "cells": [
  {
   "cell_type": "markdown",
   "metadata": {},
   "source": [
    "Word2Vec_Back2Basic\n",
    "============\n",
    "\n",
    "02. NAVER 뉴스의 tokenize와 NLTK 사용법 + pilot test\n",
    "-------------------------"
   ]
  },
  {
   "cell_type": "markdown",
   "metadata": {},
   "source": [
    "---"
   ]
  },
  {
   "cell_type": "markdown",
   "metadata": {},
   "source": [
    "## 네이버 뉴스 분석"
   ]
  },
  {
   "cell_type": "markdown",
   "metadata": {},
   "source": [
    "### 데이터 소개\n",
    "\n",
    "* 네이버 뉴스를 2016년 1월부터 12월까지 크롤링\n",
    "* 48개의 class가 존재\n",
    "* 기사가 적은 class가 존재하여 down sampling을 통해 calss 문제 해결\n",
    "* Train Set 160,000개\n",
    "    * 각 class 당 3300개 +- 100 개정도 존재\n",
    "* Test Set 22,342개\n"
   ]
  },
  {
   "cell_type": "markdown",
   "metadata": {},
   "source": [
    "|정치      |경제        |사회      |생활/문화     |세계          |IT/과학       |\n",
    "|:---------|:-----------|:---------|:-------------|:-------------|:-------------|\n",
    "|청와대    |금융        |사건사고  |건강정보      |아시아/호주   |모바일        |\n",
    "|국회/정당 |증권        |교육      |자동차/시승기 |미국/중남미   |인터넷/SNS    |\n",
    "|북한      |산업/재계   |노동      |도로/교통     |유럽          |통신/뉴미디어 |\n",
    "|행정      |중기/벤처   |언론      |여행/레저     |중동/아프리카 |IT 일반       |\n",
    "|국방/외교 |부동산      |환경      |음식/맛집     |세계 일반     |보안/해킹     |\n",
    "|정치일반  |글로벌 경제 |인권/복지 |패션/뷰티     |NA            |컴퓨터        |\n",
    "|NA        |생활경제    |식품/의료 |공연/전시     |NA            |게임/리뷰     |\n",
    "|NA        |경제 일반   |지역      |책            |NA            |과학 일반     |\n",
    "|NA        |NA          |인물      |종교          |NA            |NA            |\n",
    "|NA        |NA          |사회일반  |날씨          |NA            |NA            |\n",
    "|NA        |NA          |NA        |생활문화 일반 |NA            |NA            |"
   ]
  },
  {
   "cell_type": "markdown",
   "metadata": {},
   "source": [
    "---"
   ]
  },
  {
   "cell_type": "markdown",
   "metadata": {},
   "source": [
    "## 1. 데이터 소개\n",
    "\n",
    "### 데이터 불러오기"
   ]
  },
  {
   "cell_type": "code",
   "execution_count": 4,
   "metadata": {
    "collapsed": true
   },
   "outputs": [],
   "source": [
    "def read_data(filename):\n",
    "    with open(filename, 'r') as f:\n",
    "        data = [line.split('\\t') for line in f.read().splitlines()]\n",
    "        data = data[1:]   # header 제외\n",
    "    return data"
   ]
  },
  {
   "cell_type": "code",
   "execution_count": 5,
   "metadata": {
    "collapsed": true
   },
   "outputs": [],
   "source": [
    "data_1 = read_data('../word2vec/data/naver_1_Month.txt?dl=1')\n",
    "data_2 = read_data('../word2vec/data/naver_2_Month.txt?dl=1')\n",
    "data_3 = read_data('../word2vec/data/naver_3_Month.txt?dl=1')\n",
    "data_4 = read_data('../word2vec/data/naver_4_Month.txt?dl=1')\n",
    "data_5 = read_data('../word2vec/data/naver_5_Month.txt?dl=1')\n",
    "data_6 = read_data('../word2vec/data/naver_6_Month.txt?dl=1')\n",
    "data_7 = read_data('../word2vec/data/naver_7_Month.txt?dl=1')\n",
    "data_8 = read_data('../word2vec/data/naver_8_Month.txt?dl=1')\n",
    "data_9 = read_data('../word2vec/data/naver_9_Month.txt?dl=1')\n",
    "data_10 = read_data('../word2vec/data/naver_10_Month.txt?dl=1')\n",
    "data_11 = read_data('../word2vec/data/naver_11_Month.txt?dl=1')\n",
    "data_12 = read_data('../word2vec/data/naver_12_Month.txt?dl=1')"
   ]
  },
  {
   "cell_type": "code",
   "execution_count": 6,
   "metadata": {
    "collapsed": true
   },
   "outputs": [],
   "source": [
    "data_merge = data_1+data_2+data_3+data_4+data_5+data_6+data_7+data_8+data_9+data_10+data_11+data_12\n",
    "\n",
    "del data_1, data_2, data_3, data_4, data_5, data_6, data_7, data_8, data_9, data_10, data_11, data_12"
   ]
  },
  {
   "cell_type": "code",
   "execution_count": 7,
   "metadata": {},
   "outputs": [
    {
     "name": "stdout",
     "output_type": "stream",
     "text": [
      "192706\n",
      "3\n"
     ]
    }
   ],
   "source": [
    "# row, column의 수가 제대로 읽혔는지 확인\n",
    "print(len(data_merge))      # nrows: 150000\n",
    "print(len(data_merge[0]))   # ncols: 3"
   ]
  },
  {
   "cell_type": "markdown",
   "metadata": {},
   "source": [
    "## 데이터 전처리"
   ]
  },
  {
   "cell_type": "code",
   "execution_count": 8,
   "metadata": {
    "collapsed": true
   },
   "outputs": [],
   "source": [
    "# 각 리스트에는 기사, 대분류, 소분류 3가지 항목이 있는데\n",
    "# 가끔 크롤링 과정에서 오류가 발생한다.\n",
    "X = [row for row in data_merge if len(row) == 3]"
   ]
  },
  {
   "cell_type": "code",
   "execution_count": 9,
   "metadata": {},
   "outputs": [
    {
     "name": "stdout",
     "output_type": "stream",
     "text": [
      "192342\n",
      "3\n"
     ]
    }
   ],
   "source": [
    "print(len(X))      # nrows: 150000\n",
    "print(len(X[0]))   # ncols: 3"
   ]
  },
  {
   "cell_type": "code",
   "execution_count": 10,
   "metadata": {
    "collapsed": true
   },
   "outputs": [],
   "source": [
    "train_data=X[:160000]\n",
    "test_data=X[160000:]"
   ]
  },
  {
   "cell_type": "code",
   "execution_count": 11,
   "metadata": {
    "collapsed": true
   },
   "outputs": [],
   "source": [
    "del data_merge, X"
   ]
  },
  {
   "cell_type": "markdown",
   "metadata": {},
   "source": [
    "---"
   ]
  },
  {
   "cell_type": "markdown",
   "metadata": {},
   "source": [
    "## 2. KoNLPy 로 품사 태깅"
   ]
  },
  {
   "cell_type": "code",
   "execution_count": null,
   "metadata": {
    "collapsed": true
   },
   "outputs": [],
   "source": [
    "from konlpy.tag import Twitter\n",
    "\n",
    "pos_tagger = Twitter()\n",
    "def tokenize(doc):\n",
    "    # norm, stem은 optional\n",
    "    return ['/'.join(t) for t in pos_tagger.pos(doc, norm=True, stem=True)]"
   ]
  },
  {
   "cell_type": "markdown",
   "metadata": {},
   "source": [
    "print(twitter.morphs(u'단독입찰보다 복수입찰의 경우'))  \n",
    "* ['단독', '입찰', '보다', '복수', '입찰', '의', '경우', '가']\n",
    "\n",
    "print(twitter.nouns(u'유일하게 항공기 체계 종합개발 경험을 갖고 있는 KAI는'))  \n",
    "* ['유일하', '항공기', '체계', '종합', '개발', '경험']\n",
    "\n",
    "print(twitter.phrases(u'날카로운 분석과 신뢰감 있는 진행으로'))  \n",
    "* ['분석', '분석과 신뢰감', '신뢰감', '분석과 신뢰감 있는 진행', '신뢰감 있는 진행', '진행', '신뢰']  \n",
    "\n",
    "print(twitter.pos(u'이것도 되나욬ㅋㅋ'))  \n",
    "* [('이', 'Determiner'), ('것', 'Noun'), ('도', 'Josa'), ('되나욬', 'Noun'), ('ㅋㅋ', 'KoreanParticle')]\n",
    "\n",
    "print(twitter.pos(u'이것도 되나욬ㅋㅋ', norm=True))\n",
    "* [('이', 'Determiner'), ('것', 'Noun'), ('도', 'Josa'), ('되', 'Verb'), ('나요', 'Eomi'), ('ㅋㅋ', 'KoreanParticle')]  \n",
    "\n",
    "print(twitter.pos(u'이것도 되나욬ㅋㅋ', norm=True, stem=True))\n",
    "* [('이', 'Determiner'), ('것', 'Noun'), ('도', 'Josa'), ('되다', 'Verb'), ('ㅋㅋ', 'KoreanParticle')]  \n",
    "\n",
    "[[1] _twitter.py](https://github.com/konlpy/konlpy/blob/master/konlpy/tag/_twitter.py)"
   ]
  },
  {
   "cell_type": "code",
   "execution_count": 12,
   "metadata": {
    "collapsed": true
   },
   "outputs": [],
   "source": [
    "import pickle"
   ]
  },
  {
   "cell_type": "code",
   "execution_count": null,
   "metadata": {
    "collapsed": true
   },
   "outputs": [],
   "source": [
    "# 전체과정에서 시간이 가장 오래 걸린다.\n",
    "\n",
    "# train_docs = [(tokenize(row[0]), row[2]) for row in train_data]\n",
    "# test_docs = [(tokenize(row[0]), row[2]) for row in test_data]"
   ]
  },
  {
   "cell_type": "markdown",
   "metadata": {},
   "source": [
    "### tokenize save"
   ]
  },
  {
   "cell_type": "code",
   "execution_count": null,
   "metadata": {
    "collapsed": true
   },
   "outputs": [],
   "source": [
    "# save txt\n",
    "# with open(\"../word2vec/data/train_docs_save.txt\", 'wb')as wt:\n",
    "#     pickle.dump(train_docs, wt)\n",
    "    \n",
    "# with open(\"../word2vec/data/test_docs_save.txt\", 'wb')as wt:\n",
    "#     pickle.dump(test_docs, wt)"
   ]
  },
  {
   "cell_type": "markdown",
   "metadata": {},
   "source": [
    "### tokenize load"
   ]
  },
  {
   "cell_type": "code",
   "execution_count": 13,
   "metadata": {
    "collapsed": true
   },
   "outputs": [],
   "source": [
    "# load\n",
    "with open('../word2vec/train_docs_save.txt?dl=1', 'rb') as rd:\n",
    "    train_docs = pickle.load(rd)\n",
    "    \n",
    "with open('../word2vec/test_docs_save.txt?dl=1', 'rb') as rd:\n",
    "    test_docs = pickle.load(rd)"
   ]
  },
  {
   "cell_type": "code",
   "execution_count": 14,
   "metadata": {},
   "outputs": [
    {
     "name": "stdout",
     "output_type": "stream",
     "text": [
      "['-/Punctuation',\n",
      " '내각/Noun',\n",
      " '·/Foreign',\n",
      " '청와대/Noun',\n",
      " '참모/Noun',\n",
      " '들/Suffix',\n",
      " '과/Josa',\n",
      " '신년/Noun',\n",
      " '떡국/Noun',\n",
      " '조찬/Noun']\n"
     ]
    }
   ],
   "source": [
    "# 잘 들어갔는지 확인\n",
    "from pprint import pprint\n",
    "pprint(train_docs[0][0][:10])"
   ]
  },
  {
   "cell_type": "markdown",
   "metadata": {},
   "source": [
    "### 그런데\n",
    "\n",
    "#### 형태소로 꼭 나눠야 하나?\n",
    "    * 데이터가 정말 충분하다면, 어절 단위로도 가능하겠지만...\n",
    "    * 김태훈's `시인뉴럴`은 음절단위의 분석\n",
    "\n",
    "#### 품사(POS)태그를 부착해야 하나?\n",
    "    * 선택\n",
    "    * 품사를 태깅하면 동음이의어를 구분할 수 있음"
   ]
  },
  {
   "cell_type": "markdown",
   "metadata": {},
   "source": [
    "---"
   ]
  },
  {
   "cell_type": "markdown",
   "metadata": {},
   "source": [
    "## 3. NLTK로 데이터 간단하게 탐색"
   ]
  },
  {
   "cell_type": "markdown",
   "metadata": {},
   "source": [
    "### Training data의 token 모으기"
   ]
  },
  {
   "cell_type": "code",
   "execution_count": 17,
   "metadata": {},
   "outputs": [],
   "source": [
    "import nltk\n",
    "\n",
    "tokens = [t for d in train_docs for t in d[0]]\n",
    "\n",
    "text = nltk.Text(tokens, name='NMSC')"
   ]
  },
  {
   "cell_type": "markdown",
   "metadata": {},
   "source": [
    "### 전체 token의 갯수"
   ]
  },
  {
   "cell_type": "code",
   "execution_count": 18,
   "metadata": {},
   "outputs": [
    {
     "name": "stdout",
     "output_type": "stream",
     "text": [
      "70744406\n"
     ]
    }
   ],
   "source": [
    "print(len(text.tokens))                 "
   ]
  },
  {
   "cell_type": "markdown",
   "metadata": {},
   "source": [
    "### 유니크한 token의 갯수"
   ]
  },
  {
   "cell_type": "code",
   "execution_count": 19,
   "metadata": {},
   "outputs": [
    {
     "name": "stdout",
     "output_type": "stream",
     "text": [
      "237566\n"
     ]
    }
   ],
   "source": [
    "print(len(set(text.tokens)))"
   ]
  },
  {
   "cell_type": "markdown",
   "metadata": {},
   "source": [
    "이 수치가 바로 모형의 vocab의 갯수이다.  \n",
    "마지막 softmax 계산시 약 23만개의 Softmax 계산량이 소요된다.\n",
    "그래서\n",
    "* hierarchical softmax\n",
    "* negative sampling  \n",
    "\n",
    "방법이 필요한 것이다."
   ]
  },
  {
   "cell_type": "markdown",
   "metadata": {},
   "source": [
    "### 가장 많은 token"
   ]
  },
  {
   "cell_type": "code",
   "execution_count": 20,
   "metadata": {},
   "outputs": [
    {
     "name": "stdout",
     "output_type": "stream",
     "text": [
      "[('하다/Verb', 2417269),\n",
      " ('./Punctuation', 2354571),\n",
      " ('을/Josa', 1647832),\n",
      " ('에/Josa', 1054913),\n",
      " ('의/Josa', 1048177),\n",
      " ('이/Josa', 1024102),\n",
      " (',/Punctuation', 989111),\n",
      " ('를/Josa', 880735),\n",
      " ('은/Josa', 733400),\n",
      " ('있다/Adjective', 687638)]\n"
     ]
    }
   ],
   "source": [
    "pprint(text.vocab().most_common(10))"
   ]
  },
  {
   "cell_type": "code",
   "execution_count": 21,
   "metadata": {},
   "outputs": [
    {
     "data": {
      "image/png": "[encoded data removed]",
      "text/plain": [
       "<matplotlib.figure.Figure at 0x7fb008a8f9e8>"
      ]
     },
     "metadata": {},
     "output_type": "display_data"
    }
   ],
   "source": [
    "# 컴퓨터 폰트 확인\n",
    "from matplotlib import font_manager, rc\n",
    "font_fname = '/usr/share/fonts/nhn-nanum/NanumGothic.ttf'\n",
    "font_name = font_manager.FontProperties(fname=font_fname).get_name()\n",
    "rc('font', family=font_name)\n",
    "\n",
    "text.plot(20)"
   ]
  },
  {
   "cell_type": "markdown",
   "metadata": {},
   "source": [
    "### 특정 단어의 출현 빈도"
   ]
  },
  {
   "cell_type": "code",
   "execution_count": 22,
   "metadata": {},
   "outputs": [
    {
     "data": {
      "image/png": "[encoded data removed]",
      "text/plain": [
       "<matplotlib.figure.Figure at 0x7fb25da19da0>"
      ]
     },
     "metadata": {},
     "output_type": "display_data"
    }
   ],
   "source": [
    "text.dispersion_plot(['엑소/Noun', '물놀이/Noun', '수면/Noun'])"
   ]
  },
  {
   "cell_type": "markdown",
   "metadata": {},
   "source": [
    "이 외에도 NLTK 패키지에 다양한 기능들이 있다. [[1]](https://www.lucypark.kr/courses/2015-dm/text-mining.html) [[2]](http://www.nltk.org/)"
   ]
  },
  {
   "cell_type": "markdown",
   "metadata": {},
   "source": [
    "## 4. Pilot test"
   ]
  },
  {
   "cell_type": "markdown",
   "metadata": {},
   "source": [
    "#### 여기서는 간단하게 term이 문서에 존재하는지의 유무에 따라 분류를 해본다.  \n",
    "* 23만개 정도의 토큰에서 상위 2만개의 단어를 뽑고, 학습에 평가까지."
   ]
  },
  {
   "cell_type": "code",
   "execution_count": 24,
   "metadata": {
    "collapsed": true
   },
   "outputs": [],
   "source": [
    "selected_words = [f[0] for f in text.vocab().most_common(20000)]"
   ]
  },
  {
   "cell_type": "code",
   "execution_count": 25,
   "metadata": {
    "collapsed": true
   },
   "outputs": [],
   "source": [
    "def term_exists(doc):\n",
    "    return {'exists({})'.format(word): (word in set(doc)) for word in selected_words}"
   ]
  },
  {
   "cell_type": "code",
   "execution_count": 26,
   "metadata": {
    "collapsed": true
   },
   "outputs": [],
   "source": [
    "# 1만개의 train, 1천개의 test\n",
    "train_docs = train_docs[:10000]\n",
    "test_docs = test_docs[:1000]\n",
    "train_xy = [(term_exists(d), c) for d, c in train_docs]\n",
    "test_xy = [(term_exists(d), c) for d, c in test_docs]"
   ]
  },
  {
   "cell_type": "markdown",
   "metadata": {},
   "source": [
    "#### 다양한 분류기를 이용할 수 있다. (nltk 제공)\n",
    "\n",
    "* [NLTK](http://www.nltk.org/api/nltk.classify.html)\n",
    "    * Naive Bayes Classifiers\n",
    "    * Decision Tree Classifiers\n",
    "    * Maximum Entropy Classifiers\n",
    "* [scikit-learn](http://www.nltk.org/api/nltk.classify.html#module-nltk.classify.scikitlearn)"
   ]
  },
  {
   "cell_type": "markdown",
   "metadata": {},
   "source": [
    "### Naive Bayes 를 이용한 분류"
   ]
  },
  {
   "cell_type": "code",
   "execution_count": 29,
   "metadata": {},
   "outputs": [
    {
     "name": "stdout",
     "output_type": "stream",
     "text": [
      "0.438\n"
     ]
    }
   ],
   "source": [
    "classifier = nltk.NaiveBayesClassifier.train(train_xy)\n",
    "print(nltk.classify.accuracy(classifier, test_xy))"
   ]
  },
  {
   "cell_type": "code",
   "execution_count": 30,
   "metadata": {
    "scrolled": false
   },
   "outputs": [
    {
     "name": "stdout",
     "output_type": "stream",
     "text": [
      "Most Informative Features\n",
      "         exists(게임/Noun) = True           IT/과학- : 경제-중기/ =    144.1 : 1.0\n",
      "         exists(북한/Noun) = True            정치-북한 : 생활/문화- =    143.9 : 1.0\n",
      "         exists(기온/Noun) = True           생활/문화- : 경제-중기/ =    139.3 : 1.0\n",
      "         exists(아침/Noun) = True           생활/문화- : 정치-정치일 =    139.0 : 1.0\n",
      "        exists(박근혜/Noun) = True           정치-청와대 : 경제-증권  =    138.7 : 1.0\n",
      "         exists(내일/Noun) = True           생활/문화- : 경제-금융  =    137.1 : 1.0\n",
      "          exists(낮/Noun) = True           생활/문화- : 경제-산업/ =    136.6 : 1.0\n",
      "         exists(권리/Noun) = True           생활/문화- : 경제-금융  =    134.5 : 1.0\n",
      "       exists(국민일보/Noun) = True           생활/문화- : 경제-금융  =    133.7 : 1.0\n",
      "     exists(자유로이/Adverb) = True           생활/문화- : 경제-금융  =    133.7 : 1.0\n"
     ]
    }
   ],
   "source": [
    "classifier.show_most_informative_features(10)"
   ]
  },
  {
   "cell_type": "markdown",
   "metadata": {},
   "source": [
    "특정 단어가 해당 문서에 있을 경우, 분류가 가장 잘되는 상위 10개를 나타낸 것이다.  \n",
    "\n",
    "\"게임\" 이라는 단어가 해당 기사에 들어간 경우 144.1 : 1 비율로 IT/과학 : 경제-중기/ 로 분류된다."
   ]
  },
  {
   "cell_type": "markdown",
   "metadata": {},
   "source": [
    "## 5. 결론\n",
    "\n",
    "### Accuracy가 0.438로 너무 형편없게 나온다..\n",
    "\n",
    "\n",
    "생각보다 정확도가 나오지 않는다.  \n",
    "context 단어와 유사도를 갖는 단어도 이해할 수 없는 단어들이 나오고   \n",
    "애초에 의미없는 **`국민일보, 내일, 낮`** 이런 단어들이 중요하다고 나온다.\n",
    "\n",
    "### 해결방안  \n",
    "* 문장을 품사로 나누지 않고 명사만 추출하여 사용해 본다.\n",
    "    * 특수분문자 , 의존명사 이런 것들을 제거  \n",
    "* 최상위 빈도 단어들을 제외해본다.\n",
    "* 수작업으로 의미없다고 판단되는 단어들을 제거해본다.\n",
    "* 분류기를 바꿔본다. (i.e., more Deep NN, CNN, ..)\n",
    "\n",
    "### 이제 다음 문서에서 전체 데이터를 사용해 Doc2Vec 모형으로 데이터를 훈련시키자."
   ]
  },
  {
   "cell_type": "markdown",
   "metadata": {},
   "source": [
    "## reference\n",
    "\n",
    "### [[1]한국어와 NLTK, Gensim의 만남 ](https://www.lucypark.kr/slides/2015-pyconkr)\n",
    "\n",
    "### [[2]NLTK](http://www.nltk.org/)\n",
    "### [[3]파이썬으로 영어와 한국어 텍스트 다루기](https://www.lucypark.kr/courses/2015-dm/text-mining.html)\n",
    "### [[4]머신러닝의 자연어 처리기술](https://www.slideshare.net/ssuser06e0c5/i-64267027)\n",
    "### [[5]word2vec 관련 이론 정리](https://shuuki4.wordpress.com/2016/01/27/word2vec-%EA%B4%80%EB%A0%A8-%EC%9D%B4%EB%A1%A0-%EC%A0%95%EB%A6%AC/)"
   ]
  }
 ],
 "metadata": {
  "anaconda-cloud": {},
  "kernelspec": {
   "display_name": "Python [default]",
   "language": "python",
   "name": "python3"
  },
  "language_info": {
   "codemirror_mode": {
    "name": "ipython",
    "version": 3
   },
   "file_extension": ".py",
   "mimetype": "text/x-python",
   "name": "python",
   "nbconvert_exporter": "python",
   "pygments_lexer": "ipython3",
   "version": "3.5.2"
  }
 },
 "nbformat": 4,
 "nbformat_minor": 2
}
